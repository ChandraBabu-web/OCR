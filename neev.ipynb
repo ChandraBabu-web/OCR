{
 "cells": [
  {
   "cell_type": "code",
   "execution_count": 3,
   "id": "73d4a916",
   "metadata": {},
   "outputs": [
    {
     "name": "stdout",
     "output_type": "stream",
     "text": [
      "Defaulting to user installation because normal site-packages is not writeable\n",
      "Collecting opencv-python\n",
      "  Obtaining dependency information for opencv-python from https://files.pythonhosted.org/packages/fb/c4/f574ba6f04e6d7bf8c38d23e7a52389566dd7631fee0bcdd79ea07ef2dbf/opencv_python-4.8.0.76-cp37-abi3-win_amd64.whl.metadata\n",
      "  Downloading opencv_python-4.8.0.76-cp37-abi3-win_amd64.whl.metadata (20 kB)\n",
      "Requirement already satisfied: numpy>=1.21.2 in c:\\users\\chand\\appdata\\roaming\\python\\python310\\site-packages (from opencv-python) (1.23.2)\n",
      "Downloading opencv_python-4.8.0.76-cp37-abi3-win_amd64.whl (38.1 MB)\n",
      "   ---------------------------------------- 38.1/38.1 MB 5.4 MB/s eta 0:00:00\n",
      "Installing collected packages: opencv-python\n",
      "Successfully installed opencv-python-4.8.0.76\n",
      "Note: you may need to restart the kernel to use updated packages.\n"
     ]
    }
   ],
   "source": [
    "pip install opencv-python"
   ]
  },
  {
   "cell_type": "code",
   "execution_count": 27,
   "id": "4ad96908",
   "metadata": {},
   "outputs": [
    {
     "name": "stdout",
     "output_type": "stream",
     "text": [
      "Defaulting to user installation because normal site-packages is not writeable\n",
      "Requirement already satisfied: pandas in c:\\users\\chand\\appdata\\roaming\\python\\python310\\site-packages (1.4.3)\n",
      "Requirement already satisfied: python-dateutil>=2.8.1 in c:\\users\\chand\\appdata\\roaming\\python\\python310\\site-packages (from pandas) (2.8.2)\n",
      "Requirement already satisfied: pytz>=2020.1 in c:\\users\\chand\\appdata\\roaming\\python\\python310\\site-packages (from pandas) (2021.3)\n",
      "Requirement already satisfied: numpy>=1.21.0 in c:\\users\\chand\\appdata\\roaming\\python\\python310\\site-packages (from pandas) (1.23.2)\n",
      "Requirement already satisfied: six>=1.5 in c:\\users\\chand\\appdata\\roaming\\python\\python310\\site-packages (from python-dateutil>=2.8.1->pandas) (1.16.0)\n",
      "Note: you may need to restart the kernel to use updated packages.\n"
     ]
    }
   ],
   "source": [
    "pip install pandas"
   ]
  },
  {
   "cell_type": "code",
   "execution_count": 32,
   "id": "203d3fb1",
   "metadata": {},
   "outputs": [
    {
     "name": "stdout",
     "output_type": "stream",
     "text": [
      "Defaulting to user installation because normal site-packages is not writeable\n",
      "Collecting openpyxl\n",
      "  Downloading openpyxl-3.1.2-py2.py3-none-any.whl (249 kB)\n",
      "     -------------------------------------- 250.0/250.0 kB 1.7 MB/s eta 0:00:00\n",
      "Collecting et-xmlfile (from openpyxl)\n",
      "  Downloading et_xmlfile-1.1.0-py3-none-any.whl (4.7 kB)\n",
      "Installing collected packages: et-xmlfile, openpyxl\n",
      "Successfully installed et-xmlfile-1.1.0 openpyxl-3.1.2\n",
      "Note: you may need to restart the kernel to use updated packages.\n"
     ]
    }
   ],
   "source": [
    "pip install openpyxl\n"
   ]
  },
  {
   "cell_type": "code",
   "execution_count": 1,
   "id": "d26f7e6a",
   "metadata": {},
   "outputs": [],
   "source": [
    "import pytesseract\n"
   ]
  },
  {
   "cell_type": "code",
   "execution_count": 2,
   "id": "5c3ae17b",
   "metadata": {},
   "outputs": [],
   "source": [
    "pytesseract.pytesseract.tesseract_cmd=r\"C:\\\\Users\\\\chand\\\\AppData\\\\Local\\\\Programs\\\\Tesseract-OCR\\\\tesseract.exe\""
   ]
  },
  {
   "cell_type": "code",
   "execution_count": 6,
   "id": "b2dd6ecf",
   "metadata": {},
   "outputs": [],
   "source": [
    "import cv2"
   ]
  },
  {
   "cell_type": "code",
   "execution_count": 18,
   "id": "b59da4e3",
   "metadata": {},
   "outputs": [],
   "source": [
    "img=cv2.imread(r\"D:\\logo.png\")"
   ]
  },
  {
   "cell_type": "code",
   "execution_count": 19,
   "id": "8816a5ce",
   "metadata": {},
   "outputs": [],
   "source": [
    "cv2.imshow(\"window\",img)\n",
    "cv2.waitKey(0)\n",
    "cv2.destroyAllWindows()"
   ]
  },
  {
   "cell_type": "code",
   "execution_count": 20,
   "id": "f35d4fd3",
   "metadata": {},
   "outputs": [],
   "source": [
    "text=pytesseract.image_to_string(img)"
   ]
  },
  {
   "cell_type": "code",
   "execution_count": 21,
   "id": "fa85c536",
   "metadata": {},
   "outputs": [
    {
     "name": "stdout",
     "output_type": "stream",
     "text": [
      "1 RJ/08/058/000820 2 RJ/08/058/000311 3 ROQZ1130913\n",
      "‘Preferes oat are : Sree Pretferes ear are : aftereft Praferes eer any : 2d eae\n",
      "fran are: ae fe an are: ATT flat an ar: ara\n",
      "WaT eT: 2 vateh aera | || esta teat: 2 ep ea: 2\n",
      "ae: 59 fer: gee wa: 54 fe: after 3a: 22 fem: yer\n",
      "RQZ1343011 5 ru/oa/ose/oooas ||[ JKY1197888\n",
      "Preferes esr ar: sattaror Prafees esr amt: anraftte:\n",
      "Fear an arr: TOTEM fear an are: ata\n",
      "satel reren | | | srasra steam: 4 sper ate: 4\n",
      "wa: 79 fer: GET Wa: 25 fer: Gee\n",
      "\n",
      "\n"
     ]
    }
   ],
   "source": [
    "print(text)"
   ]
  },
  {
   "cell_type": "code",
   "execution_count": 2,
   "id": "dd2bba49",
   "metadata": {},
   "outputs": [
    {
     "name": "stdout",
     "output_type": "stream",
     "text": [
      "॥93/08/058/000820 +93/08/058/0003॥ | ॥02॥30943\n",
      "निर्वाचक का नाम : लालाराम निर्वाचक का नाम : ओमली निर्वांचक का नाम : देवेंद्र कुमार\n",
      "पिता का नाम: मामचन्द पति का नाम: लालाराम पिता का नाम: लालाराम\n",
      "मकान संख्या: 2 फोटो उपलब्ध | | | मकान संख्या: 2 पु उपलब्ध | | | मकान संख्या : ० उपलब्ध\n",
      "उम्र : 59 लिंग : पुरुष उम्र : 54 लिंग : महिला उम्र : 22 लिंग: पुरुष\n",
      "[# _4|] 4 ॥#023430॥ 8/08/058/000496 [___/ &] 00/97888\n",
      "निर्वाचक का नाम : सुरेश कुमार यादव निर्वाचक का नाम : श्योताज निर्वाचक का नाम : अभयसिंह\n",
      "पिता का नाम: छाजूराम पिला का नाम: गणपतराम पिता का नाम: श्योताज\n",
      "मकान संख्या: 22 फोटो उपलब्ध | | | मकान संख्या : 4 ०7 उपलब्ध | | | मकान संख्या :4 ०7 उपलब्ध\n",
      "उम्र : 43 लिंग: पुरुष उम्र : 79 लिंग : पुरुष उप्र : 25 लिंग: पुरुष\n",
      "\n",
      "\n"
     ]
    }
   ],
   "source": [
    "import pytesseract\n",
    "from PIL import Image\n",
    "\n",
    "image_path = 'D:\\logo.png'\n",
    "\n",
    "\n",
    "pytesseract.pytesseract.tesseract_cmd = r'C:\\\\Users\\\\chand\\\\AppData\\\\Local\\\\Programs\\\\Tesseract-OCR\\\\tesseract.exe'  # Replace with your Tesseract path\n",
    "\n",
    "\n",
    "ocr_language = 'hin'\n",
    "\n",
    "\n",
    "img = Image.open(image_path)\n",
    "\n",
    "\n",
    "ocr_text = pytesseract.image_to_string(img, lang=ocr_language)\n",
    "\n",
    "print(ocr_text)\n"
   ]
  },
  {
   "cell_type": "code",
   "execution_count": 3,
   "id": "e7f8991a",
   "metadata": {},
   "outputs": [
    {
     "name": "stdout",
     "output_type": "stream",
     "text": [
      "Data extracted and saved to 'extracted_data.xlsx'\n"
     ]
    }
   ],
   "source": [
    "\n",
    "import pandas as pd\n",
    "\n",
    "\n",
    "image_path = 'D:\\logo.png'\n",
    "\n",
    "\n",
    "pytesseract.pytesseract.tesseract_cmd = r'C:\\\\Users\\\\chand\\\\AppData\\\\Local\\\\Programs\\\\Tesseract-OCR\\\\tesseract.exe' \n",
    "ocr_language = 'hin'\n",
    "\n",
    "\n",
    "img = Image.open(image_path)\n",
    "\n",
    "\n",
    "ocr_text = pytesseract.image_to_string(img, lang=ocr_language)\n",
    "\n",
    "\n",
    "lines = ocr_text.split('\\n')\n",
    "\n",
    "\n",
    "data = [line.split() for line in lines]\n",
    "\n",
    "\n",
    "df = pd.DataFrame(data)\n",
    "\n",
    "\n",
    "df.replace('', pd.NA, inplace=True)\n",
    "\n",
    "\n",
    "excel_path = 'extracted_data.xlsx'\n",
    "\n",
    "\n",
    "df.to_excel(excel_path, index=False, header=False)\n",
    "\n",
    "print(f\"Data extracted and saved to '{excel_path}'\")\n"
   ]
  },
  {
   "cell_type": "code",
   "execution_count": 30,
   "id": "3e98c965",
   "metadata": {},
   "outputs": [
    {
     "name": "stdout",
     "output_type": "stream",
     "text": [
      "Defaulting to user installation because normal site-packages is not writeable\n",
      "Collecting PyMuPDF\n",
      "  Obtaining dependency information for PyMuPDF from https://files.pythonhosted.org/packages/fa/62/42dc9d8e6b02b461a626fe10000dd29a01c1479997c48d2344bd938d573e/PyMuPDF-1.23.2-cp310-none-win_amd64.whl.metadata\n",
      "  Downloading PyMuPDF-1.23.2-cp310-none-win_amd64.whl.metadata (3.4 kB)\n",
      "Collecting PyMuPDFb==1.23.0 (from PyMuPDF)\n",
      "  Obtaining dependency information for PyMuPDFb==1.23.0 from https://files.pythonhosted.org/packages/c6/14/fcf0335af6f2d0f1d92cc0f46d6cbdad54b7ffa137eb071aebecd68f2b1d/PyMuPDFb-1.23.0-py3-none-win_amd64.whl.metadata\n",
      "  Downloading PyMuPDFb-1.23.0-py3-none-win_amd64.whl.metadata (1.4 kB)\n",
      "Downloading PyMuPDF-1.23.2-cp310-none-win_amd64.whl (3.5 MB)\n",
      "   ---------------------------------------- 3.5/3.5 MB 24.6 MB/s eta 0:00:00\n",
      "Downloading PyMuPDFb-1.23.0-py3-none-win_amd64.whl (22.7 MB)\n",
      "   ---------------------------------------- 22.7/22.7 MB 6.0 MB/s eta 0:00:00\n",
      "Installing collected packages: PyMuPDFb, PyMuPDF\n",
      "Successfully installed PyMuPDF-1.23.2 PyMuPDFb-1.23.0\n",
      "Note: you may need to restart the kernel to use updated packages.\n"
     ]
    }
   ],
   "source": [
    "pip install PyMuPDF\n"
   ]
  },
  {
   "cell_type": "code",
   "execution_count": 33,
   "id": "e4644e3c",
   "metadata": {},
   "outputs": [
    {
     "name": "stdout",
     "output_type": "stream",
     "text": [
      "Defaulting to user installation because normal site-packages is not writeableNote: you may need to restart the kernel to use updated packages.\n",
      "Requirement already satisfied: openpyxl in c:\\users\\chand\\appdata\\roaming\\python\\python310\\site-packages (3.1.2)\n",
      "Requirement already satisfied: et-xmlfile in c:\\users\\chand\\appdata\\roaming\\python\\python310\\site-packages (from openpyxl) (1.1.0)\n",
      "\n"
     ]
    }
   ],
   "source": [
    "pip install openpyxl\n"
   ]
  },
  {
   "cell_type": "code",
   "execution_count": 75,
   "id": "6449274e",
   "metadata": {},
   "outputs": [
    {
     "name": "stdout",
     "output_type": "stream",
     "text": [
      "Record 1:\n",
      "Name: लालाराम निर्वाचक का नाम : ओमली निर्वांचक का नाम : देवेंद्र कुमार\n",
      "Father's Name: मामचन्द पति का नाम: लालाराम पिता का नाम: लालाराम\n",
      "House Number: 2 फोटो उपलब्ध | | | मकान संख्या: 2 पु उपलब्ध | | | मकान संख्या : ० उपलब्ध\n",
      "Age: 59 लिंग : पुरुष उम्र : 54 लिंग : महिला उम्र : 22 लिंग: पुरुष\n",
      "Gender: \n",
      "\n",
      "Record 2:\n",
      "Name: सुरेश कुमार यादव निर्वाचक का नाम : श्योताज निर्वाचक का नाम : अभयसिंह\n",
      "Father's Name: छाजूराम पिला का नाम: गणपतराम पिता का नाम: श्योताज\n",
      "House Number: 22 फोटो उपलब्ध | | | मकान संख्या : 4 ०7 उपलब्ध | | | मकान संख्या :4 ०7 उपलब्ध\n",
      "Age: 43 लिंग: पुरुष उम्र : 79 लिंग : पुरुष उप्र : 25 लिंग: पुरुष\n",
      "Gender: \n",
      "\n",
      "Data extraction complete.\n"
     ]
    }
   ],
   "source": [
    "import re\n",
    "\n",
    "text_file_path = r\"D:\\neev\\extracted_data.txt\"\n",
    "\n",
    "\n",
    "with open(text_file_path, 'r', encoding='utf-8') as file:\n",
    "    text = file.read()\n",
    "\n",
    "patterns = {\n",
    "    \"Name\": r\"निर्वाचक का नाम : (.+)\",\n",
    "    \"Father's Name\": r\"पिता का नाम: (.+)\",\n",
    "    \"House Number\": r\"मकान संख्या: (.+)\",\n",
    "    \"Age\": r\"उम्र : (.+)\",\n",
    "    \"Gender\": r\"लिंग : (.+)\"\n",
    "}\n",
    "\n",
    "\n",
    "data = []\n",
    "current_record = {}\n",
    "\n",
    "\n",
    "for line in text.split('\\n'):\n",
    "    for key, pattern in patterns.items():\n",
    "        match = re.search(pattern, line)\n",
    "        if match:\n",
    "            current_record[key] = match.group(1).strip()\n",
    "            break\n",
    "    else:\n",
    "        if current_record:\n",
    "            data.append(current_record.copy())\n",
    "            current_record.clear()\n",
    "\n",
    "\n",
    "for idx, record in enumerate(data, 1):\n",
    "    print(f\"Record {idx}:\")\n",
    "    print(f\"Name: {record.get('Name', '')}\")\n",
    "    print(\"Father's Name:\", record.get(\"Father's Name\", \"\"))\n",
    "    print(f\"House Number: {record.get('House Number', '')}\")\n",
    "    print(f\"Age: {record.get('Age', '')}\")\n",
    "    print(f\"Gender: {record.get('Gender', '')}\")\n",
    "    print()\n",
    "\n",
    "print(\"Data extraction complete.\")\n"
   ]
  },
  {
   "cell_type": "code",
   "execution_count": 11,
   "id": "78992a3a",
   "metadata": {},
   "outputs": [
    {
     "name": "stdout",
     "output_type": "stream",
     "text": [
      "Content of the file:\n",
      " ॥93/08/058/000820 +93/08/058/0003॥ | ॥02॥30943\n",
      "निर्वाचक का नाम : लालाराम निर्वाचक का नाम : ओमली निर्वांचक का नाम : देवेंद्र कुमार\n",
      "पिता का नाम: मामचन्द पति का नाम: लालाराम पिता का नाम: लालाराम\n",
      "मकान संख्या: 2 फोटो उपलब्ध | | | मकान संख्या: 2 पु उपलब्ध | | | मकान संख्या : ० उपलब्ध\n",
      "उम्र : 59 लिंग : पुरुष उम्र : 54 लिंग : महिला उम्र : 22 लिंग: पुरुष\n",
      "[# _4|] 4 ॥#023430॥ 8/08/058/000496 [___/ &] 00/97888\n",
      "निर्वाचक का नाम : सुरेश कुमार यादव निर्वाचक का नाम : श्योताज निर्वाचक का नाम : अभयसिंह\n",
      "पिता का नाम: छाजूराम पिला का नाम: गणपतराम पिता का नाम: श्योताज\n",
      "मकान संख्या: 22 फोटो उपलब्ध | | | मकान संख्या : 4 ०7 उपलब्ध | | | मकान संख्या :4 ०7 उपलब्ध\n",
      "उम्र : 43 लिंग: पुरुष उम्र : 79 लिंग : पुरुष उप्र : 25 लिंग: पुरुष\n",
      "\n",
      "\n",
      "\n"
     ]
    }
   ],
   "source": [
    "\n",
    "file_path = r\"D:\\neev\\extracted_data.txt\"\n",
    "\n",
    "# Read the content of the file\n",
    "with open(file_path, 'r', encoding='utf-8') as file:\n",
    "    content = file.read()\n",
    "\n",
    "\n",
    "print(\"Content of the file:\\n\", content)\n"
   ]
  },
  {
   "cell_type": "code",
   "execution_count": 13,
   "id": "ce6c9d29",
   "metadata": {},
   "outputs": [
    {
     "name": "stdout",
     "output_type": "stream",
     "text": [
      "Names: ['लालाराम निर्वाचक का नाम : ओमली निर्वांचक का नाम : देवेंद्र कुमार', 'सुरेश कुमार यादव निर्वाचक का नाम : श्योताज निर्वाचक का नाम : अभयसिंह']\n",
      "Fathers' Names: ['मामचन्द पति का नाम: लालाराम पिता का नाम: लालाराम', 'छाजूराम पिला का नाम: गणपतराम पिता का नाम: श्योताज']\n",
      "House Numbers: ['2 फोटो उपलब्ध | | | मकान संख्या: 2 पु उपलब्ध | | | मकान संख्या : ० उपलब्ध', '22 फोटो उपलब्ध | | | मकान संख्या : 4 ०7 उपलब्ध | | | मकान संख्या :4 ०7 उपलब्ध']\n",
      "Ages: ['59', '79']\n",
      "Genders: ['पुरुष उम्र : 54 लिंग : महिला उम्र : 22 लिंग: पुरुष', 'पुरुष उप्र : 25 लिंग: पुरुष']\n"
     ]
    }
   ],
   "source": [
    "import re\n",
    "\n",
    "file_path = r\"D:\\neev\\extracted_data.txt\"\n",
    "\n",
    "with open(file_path, 'r', encoding='utf-8') as file:\n",
    "    content = file.read()\n",
    "\n",
    "\n",
    "names = []\n",
    "fathers_names = []\n",
    "house_numbers = []\n",
    "ages = []\n",
    "genders = []\n",
    "\n",
    "\n",
    "lines = content.split('\\n')\n",
    "\n",
    "for line in lines:\n",
    "    name_match = re.search(r'का नाम : (.+)', line)\n",
    "    father_name_match = re.search(r'पिता का नाम: (.+)', line)\n",
    "    house_number_match = re.search(r'मकान संख्या: (.+)', line)\n",
    "    age_gender_match = re.search(r'उम्र : (\\d+) लिंग : (.+)', line)\n",
    "\n",
    "    if name_match:\n",
    "        names.append(name_match.group(1))\n",
    "    if father_name_match:\n",
    "        fathers_names.append(father_name_match.group(1))\n",
    "    if house_number_match:\n",
    "        house_numbers.append(house_number_match.group(1))\n",
    "    if age_gender_match:\n",
    "        ages.append(age_gender_match.group(1))\n",
    "        genders.append(age_gender_match.group(2))\n",
    "\n",
    "# Print the extracted information\n",
    "print(\"Names:\", names)\n",
    "print(\"Fathers' Names:\", fathers_names)\n",
    "print(\"House Numbers:\", house_numbers)\n",
    "print(\"Ages:\", ages)\n",
    "print(\"Genders:\", genders)\n"
   ]
  },
  {
   "cell_type": "code",
   "execution_count": 14,
   "id": "fed56736",
   "metadata": {},
   "outputs": [
    {
     "name": "stdout",
     "output_type": "stream",
     "text": [
      "Names: ['ओमली निर्वांचक का नाम : देवेंद्र कुमार', 'अभयसिंह']\n",
      "Fathers' Names: ['लालाराम', 'श्योताज']\n",
      "House Numbers: ['2 पु उपलब्ध | | | मकान संख्या : ० उपलब्ध', '22 फोटो उपलब्ध | | | मकान संख्या : 4 ०7 उपलब्ध | | | मकान संख्या :4 ०7 उपलब्ध']\n",
      "Ages: ['59', '43']\n",
      "Genders: ['पुरुष\\n', 'पुरुष\\n']\n"
     ]
    }
   ],
   "source": [
    "\n",
    "file_path = r\"D:\\neev\\extracted_data.txt\"\n",
    "\n",
    "with open(file_path, 'r', encoding='utf-8') as file:\n",
    "    content = file.readlines()\n",
    "\n",
    "\n",
    "names = []\n",
    "fathers_names = []\n",
    "house_numbers = []\n",
    "ages = []\n",
    "genders = []\n",
    "\n",
    "def extract_name(line):\n",
    "    return line.split('निर्वाचक का नाम : ')[-1].strip()\n",
    "\n",
    "def extract_father_name(line):\n",
    "    return line.split('पिता का नाम: ')[-1].strip()\n",
    "\n",
    "\n",
    "def extract_house_number(line):\n",
    "    return line.split('मकान संख्या: ')[-1].strip()\n",
    "\n",
    "\n",
    "def extract_age_gender(line):\n",
    "    parts = line.split(' ')\n",
    "    age = parts[2]\n",
    "    gender = parts[-1]\n",
    "    return age, gender\n",
    "\n",
    "for line in content:\n",
    "    if 'निर्वाचक का नाम :' in line:\n",
    "        names.append(extract_name(line))\n",
    "    elif 'पिता का नाम:' in line:\n",
    "        fathers_names.append(extract_father_name(line))\n",
    "    elif 'मकान संख्या:' in line:\n",
    "        house_numbers.append(extract_house_number(line))\n",
    "    elif 'उम्र :' in line and 'लिंग :' in line:\n",
    "        age, gender = extract_age_gender(line)\n",
    "        ages.append(age)\n",
    "        genders.append(gender)\n",
    "\n",
    "# Print the extracted information\n",
    "print(\"Names:\", names)\n",
    "print(\"Fathers' Names:\", fathers_names)\n",
    "print(\"House Numbers:\", house_numbers)\n",
    "print(\"Ages:\", ages)\n",
    "print(\"Genders:\", genders)\n"
   ]
  },
  {
   "cell_type": "code",
   "execution_count": 20,
   "id": "735ef328",
   "metadata": {},
   "outputs": [
    {
     "name": "stdout",
     "output_type": "stream",
     "text": [
      "Names: ['अभयसिंह']\n",
      "Fathers' Names: ['श्योताज']\n",
      "House Numbers: ['4 ०7 उपलब्ध']\n",
      "Ages: ['पुरुष']\n",
      "Genders: ['']\n"
     ]
    }
   ],
   "source": [
    "\n",
    "file_path = r\"D:\\neev\\extracted_data.txt\"\n",
    "\n",
    "\n",
    "with open(file_path, 'r', encoding='utf-8') as file:\n",
    "    content = file.read()\n",
    "\n",
    "data_sets = content.strip().split('\\n\\n')\n",
    "\n",
    "\n",
    "names = []\n",
    "fathers_names = []\n",
    "house_numbers = []\n",
    "ages = []\n",
    "genders = []\n",
    "\n",
    "for data in data_sets:\n",
    "    lines = data.split('\\n')\n",
    "    current_name = ''\n",
    "    current_father_name = ''\n",
    "    current_house_number = ''\n",
    "    current_age = ''\n",
    "    current_gender = ''\n",
    "    \n",
    "    for line in lines:\n",
    "        if 'निर्वाचक का नाम :' in line:\n",
    "            current_name = line.split(':')[-1].strip()\n",
    "        elif 'पिता का नाम:' in line:\n",
    "            current_father_name = line.split(':')[-1].strip()\n",
    "        elif 'मकान संख्या:' in line:\n",
    "            current_house_number = line.split(':')[-1].strip()\n",
    "        elif 'उम्र :' in line:\n",
    "            current_age = line.split(':')[-1].strip()\n",
    "        elif 'लिंग :' in line:\n",
    "            current_gender = line.split(':')[-1].strip()\n",
    "    \n",
    "    # Append the extracted information to lists\n",
    "    names.append(current_name)\n",
    "    fathers_names.append(current_father_name)\n",
    "    house_numbers.append(current_house_number)\n",
    "    ages.append(current_age)\n",
    "    genders.append(current_gender)\n",
    "\n",
    "# Print the extracted information\n",
    "print(\"Names:\", names)\n",
    "print(\"Fathers' Names:\", fathers_names)\n",
    "print(\"House Numbers:\", house_numbers)\n",
    "print(\"Ages:\", ages)\n",
    "print(\"Genders:\", genders)\n"
   ]
  }
 ],
 "metadata": {
  "kernelspec": {
   "display_name": "Python 3 (ipykernel)",
   "language": "python",
   "name": "python3"
  },
  "language_info": {
   "codemirror_mode": {
    "name": "ipython",
    "version": 3
   },
   "file_extension": ".py",
   "mimetype": "text/x-python",
   "name": "python",
   "nbconvert_exporter": "python",
   "pygments_lexer": "ipython3",
   "version": "3.10.0"
  }
 },
 "nbformat": 4,
 "nbformat_minor": 5
}
